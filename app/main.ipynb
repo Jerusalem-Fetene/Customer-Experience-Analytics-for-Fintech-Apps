{
 "cells": [
  {
   "cell_type": "markdown",
   "id": "5606d81f",
   "metadata": {},
   "source": [
    "Pulling Everything Together"
   ]
  },
  {
   "cell_type": "markdown",
   "id": "834ecced",
   "metadata": {},
   "source": [
    "Let's create a main script to run the entire pipeline:"
   ]
  },
  {
   "cell_type": "markdown",
   "id": "ddf49f55",
   "metadata": {},
   "source": [
    "The pipeline meets all requirements of the challenge, including:\n",
    "\n",
    "<li>Scraping 400+ reviews per bank\n",
    "<li>Analyzing sentiment and themes\n",
    "<li>Storing data in Oracle\n",
    "<li>Providing insights and recommendations"
   ]
  },
  {
   "cell_type": "code",
   "execution_count": null,
   "id": "df588c5c",
   "metadata": {},
   "outputs": [],
   "source": [
    "# import necessary libraries\n",
    "import logging\n",
    "import time\n",
    "from datetime import datetime"
   ]
  },
  {
   "cell_type": "code",
   "execution_count": null,
   "id": "de3d198a",
   "metadata": {},
   "outputs": [],
   "source": [
    "# Set up logging\n",
    "logging.basicConfig(\n",
    "    filename='fintech_app_analysis.log',\n",
    "    level=logging.INFO,\n",
    "    format='%(asctime)s - %(levelname)s - %(message)s'\n",
    ")\n"
   ]
  },
  {
   "cell_type": "code",
   "execution_count": null,
   "id": "3b07d8ac",
   "metadata": {},
   "outputs": [],
   "source": [
    "\n",
    "def main():\n",
    "    \"\"\"Run the complete data engineering pipeline\"\"\"\n",
    "    start_time = time.time()\n",
    "    timestamp = datetime.now().strftime('%Y%m%d_%H%M%S')\n",
    "    \n",
    "    logging.info(\"Starting Customer Experience Analytics pipeline\")\n",
    "    \n",
    "    try:\n",
    "        # Task 1: Data Collection and Preprocessing\n",
    "        logging.info(\"Starting Task 1: Data Collection and Preprocessing\")\n",
    "        from play_store_scraper import run_scraping\n",
    "        cleaned_data_file = run_scraping()\n",
    "        logging.info(f\"Task 1 complete. Output: {cleaned_data_file}\")\n",
    "        \n",
    "        # Task 2: Sentiment and Thematic Analysis\n",
    "        logging.info(\"Starting Task 2: Sentiment and Thematic Analysis\")\n",
    "        from sentiment_analysis import run_analysis\n",
    "        analyzed_data_file = run_analysis(cleaned_data_file)\n",
    "        logging.info(f\"Task 2 complete. Output: {analyzed_data_file}\")\n",
    "        \n",
    "        # Task 3: Store Cleaned Data in Oracle\n",
    "        logging.info(\"Starting Task 3: Store Cleaned Data in Oracle\")\n",
    "        from oracle_database import run_database_setup\n",
    "        run_database_setup(analyzed_data_file)\n",
    "        logging.info(\"Task 3 complete\")\n",
    "        \n",
    "        # Task 4: Insights and Recommendations\n",
    "        logging.info(\"Starting Task 4: Insights and Recommendations\")\n",
    "        from insights_generator import run_insights_generation\n",
    "        run_insights_generation(analyzed_data_file)\n",
    "        logging.info(\"Task 4 complete\")\n",
    "        \n",
    "        # Pipeline complete\n",
    "        elapsed_time = time.time() - start_time\n",
    "        logging.info(f\"Customer Experience Analytics pipeline completed successfully in {elapsed_time:.2f} seconds\")\n",
    "        \n",
    "    except Exception as e:\n",
    "        logging.error(f\"Pipeline failed: {e}\")\n",
    "        elapsed_time = time.time() - start_time\n",
    "        logging.info(f\"Pipeline terminated after {elapsed_time:.2f} seconds\")\n",
    "\n",
    "if __name__ == \"__main__\":\n",
    "    main()"
   ]
  }
 ],
 "metadata": {
  "language_info": {
   "name": "python"
  }
 },
 "nbformat": 4,
 "nbformat_minor": 5
}
