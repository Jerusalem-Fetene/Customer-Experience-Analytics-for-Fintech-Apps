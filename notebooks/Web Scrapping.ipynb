{
 "cells": [
  {
   "cell_type": "markdown",
   "id": "701b853f",
   "metadata": {},
   "source": [
    "<h1> Customer Experience Analytics for Fintech Apps </h1>"
   ]
  },
  {
   "cell_type": "markdown",
   "id": "3a57a212",
   "metadata": {},
   "source": [
    "A Real-World Data Engineering Challenge: Scraping, Analyzing, and Visualizing Google Play Store Reviews."
   ]
  },
  {
   "cell_type": "markdown",
   "id": "0c228c3d",
   "metadata": {},
   "source": [
    "**Task-1: Data Collection and Preprocessing**"
   ]
  },
  {
   "cell_type": "markdown",
   "id": "7bddfd61",
   "metadata": {},
   "source": [
    "<li>Scrapes reviews from Google Play Store for 3 Ethiopian banks\n",
    "<li>Cleans and preprocesses the data\n",
    "<li>Saves as CSV"
   ]
  },
  {
   "cell_type": "code",
   "execution_count": 1,
   "id": "895585c8",
   "metadata": {},
   "outputs": [],
   "source": [
    "from google_play_scraper import Sort, reviews\n",
    "import csv\n",
    "from datetime import datetime\n",
    "import logging\n",
    "import time\n",
    "import os"
   ]
  },
  {
   "cell_type": "code",
   "execution_count": 2,
   "id": "1e54a37e",
   "metadata": {},
   "outputs": [],
   "source": [
    "# Set up logging\n",
    "logging.basicConfig(filename='scraper.log', level=logging.INFO, format='%(asctime)s - %(levelname)s - %(message)s')"
   ]
  },
  {
   "cell_type": "code",
   "execution_count": 3,
   "id": "37040d3b",
   "metadata": {},
   "outputs": [],
   "source": [
    "def scrape_play_store_reviews(app_id, bank_name):\n",
    "    logging.info(f\"🔄 Fetching reviews for {bank_name}...\")\n",
    "\n",
    "    try:\n",
    "        results, _ = reviews(\n",
    "            app_id,\n",
    "            lang='en',\n",
    "            country='et', # Ethiopia\n",
    "            sort=Sort.NEWEST,\n",
    "            count=500,  # Aim for more than needed (400+)\n",
    "            filter_score_with=None\n",
    "        )\n",
    "\n",
    "        timestamp = datetime.now().strftime('%Y%m%d_%H%M%S')\n",
    "        filename = f'{bank_name.replace(\" \", \"_\")}_reviews_{timestamp}.csv'\n",
    "\n",
    "        # Write to CSV\n",
    "        with open(filename, mode='w', newline='', encoding='utf-8') as file:\n",
    "            writer = csv.DictWriter(file, fieldnames=['review_id', 'review_text', 'rating', 'date', 'bank_name', 'source'])\n",
    "            writer.writeheader()\n",
    "\n",
    "            for i, entry in enumerate(results):\n",
    "                writer.writerow({\n",
    "                    'review_id': f\"{bank_name.lower().replace(' ', '_')}_{i}\",\n",
    "                    'review_text': entry['content'],\n",
    "                    'rating': entry['score'],\n",
    "                    'date': entry['at'].strftime('%Y-%m-%d'),\n",
    "                    'bank_name': bank_name,\n",
    "                    'source': 'Google Play'\n",
    "                })\n",
    "\n",
    "        logging.info(f\"✅ Saved {len(results)} reviews to {filename}\")\n",
    "        return filename\n",
    "    except Exception as e:\n",
    "        logging.error(f\"Error occurred: {e}\")\n",
    "        return None"
   ]
  },
  {
   "cell_type": "code",
   "execution_count": 5,
   "id": "f9c27edd",
   "metadata": {},
   "outputs": [],
   "source": [
    "def preprocess_data():\n",
    "    \"\"\"Combine all CSV files and preprocess the data\"\"\"\n",
    "    logging.info(\"Starting data preprocessing...\")\n",
    "    \n",
    "    # Find all CSV files with reviews\n",
    "    csv_files = [f for f in os.listdir() if f.endswith('.csv') and 'reviews' in f]\n",
    "    \n",
    "    if not csv_files:\n",
    "        logging.error(\"No review CSV files found for preprocessing\")\n",
    "        return\n",
    "        \n",
    "    # Combine all CSVs into one dataset\n",
    "    all_reviews = []\n",
    "    for file in csv_files:\n",
    "        with open(file, mode='r', encoding='utf-8') as f:\n",
    "            reader = csv.DictReader(f)\n",
    "            for row in reader:\n",
    "                all_reviews.append(row)\n",
    "    \n",
    "    # Remove duplicates (based on review text and bank name)\n",
    "    unique_reviews = {}\n",
    "    for review in all_reviews:\n",
    "        key = (review['review_text'], review['bank_name'])\n",
    "        if key not in unique_reviews:\n",
    "            unique_reviews[key] = review\n",
    "    \n",
    "    # Save combined, deduplicated dataset\n",
    "    timestamp = datetime.now().strftime('%Y%m%d_%H%M%S')\n",
    "    output_file = f'all_banks_reviews_clean_{timestamp}.csv'\n",
    "    \n",
    "    with open(output_file, mode='w', newline='', encoding='utf-8') as file:\n",
    "        writer = csv.DictWriter(file, fieldnames=['review_id', 'review_text', 'rating', 'date', 'bank_name', 'source'])\n",
    "        writer.writeheader()\n",
    "        \n",
    "        for review in unique_reviews.values():\n",
    "            writer.writerow(review)\n",
    "    \n",
    "    logging.info(f\"✅ Preprocessing complete. Saved {len(unique_reviews)} unique reviews to {output_file}\")\n",
    "    return output_file"
   ]
  },
  {
   "cell_type": "code",
   "execution_count": 6,
   "id": "8a90ffbf",
   "metadata": {},
   "outputs": [
    {
     "ename": "KeyError",
     "evalue": "'bank_name'",
     "output_type": "error",
     "traceback": [
      "\u001b[1;31m---------------------------------------------------------------------------\u001b[0m",
      "\u001b[1;31mKeyError\u001b[0m                                  Traceback (most recent call last)",
      "Cell \u001b[1;32mIn[6], line 17\u001b[0m\n\u001b[0;32m     14\u001b[0m     logging\u001b[38;5;241m.\u001b[39minfo(\u001b[38;5;124mf\u001b[39m\u001b[38;5;124m\"\u001b[39m\u001b[38;5;124mData collection and preprocessing complete: \u001b[39m\u001b[38;5;132;01m{\u001b[39;00mclean_file\u001b[38;5;132;01m}\u001b[39;00m\u001b[38;5;124m\"\u001b[39m)\n\u001b[0;32m     16\u001b[0m \u001b[38;5;28;01mif\u001b[39;00m \u001b[38;5;18m__name__\u001b[39m \u001b[38;5;241m==\u001b[39m \u001b[38;5;124m\"\u001b[39m\u001b[38;5;124m__main__\u001b[39m\u001b[38;5;124m\"\u001b[39m:\n\u001b[1;32m---> 17\u001b[0m     \u001b[43mrun_scraping\u001b[49m\u001b[43m(\u001b[49m\u001b[43m)\u001b[49m\n",
      "Cell \u001b[1;32mIn[6], line 13\u001b[0m, in \u001b[0;36mrun_scraping\u001b[1;34m()\u001b[0m\n\u001b[0;32m     10\u001b[0m     scrape_play_store_reviews(bank[\u001b[38;5;124m'\u001b[39m\u001b[38;5;124mapp_id\u001b[39m\u001b[38;5;124m'\u001b[39m], bank[\u001b[38;5;124m'\u001b[39m\u001b[38;5;124mname\u001b[39m\u001b[38;5;124m'\u001b[39m])\n\u001b[0;32m     12\u001b[0m \u001b[38;5;66;03m# After scraping all banks, preprocess the data\u001b[39;00m\n\u001b[1;32m---> 13\u001b[0m clean_file \u001b[38;5;241m=\u001b[39m \u001b[43mpreprocess_data\u001b[49m\u001b[43m(\u001b[49m\u001b[43m)\u001b[49m\n\u001b[0;32m     14\u001b[0m logging\u001b[38;5;241m.\u001b[39minfo(\u001b[38;5;124mf\u001b[39m\u001b[38;5;124m\"\u001b[39m\u001b[38;5;124mData collection and preprocessing complete: \u001b[39m\u001b[38;5;132;01m{\u001b[39;00mclean_file\u001b[38;5;132;01m}\u001b[39;00m\u001b[38;5;124m\"\u001b[39m)\n",
      "Cell \u001b[1;32mIn[5], line 23\u001b[0m, in \u001b[0;36mpreprocess_data\u001b[1;34m()\u001b[0m\n\u001b[0;32m     21\u001b[0m unique_reviews \u001b[38;5;241m=\u001b[39m {}\n\u001b[0;32m     22\u001b[0m \u001b[38;5;28;01mfor\u001b[39;00m review \u001b[38;5;129;01min\u001b[39;00m all_reviews:\n\u001b[1;32m---> 23\u001b[0m     key \u001b[38;5;241m=\u001b[39m (review[\u001b[38;5;124m'\u001b[39m\u001b[38;5;124mreview_text\u001b[39m\u001b[38;5;124m'\u001b[39m], \u001b[43mreview\u001b[49m\u001b[43m[\u001b[49m\u001b[38;5;124;43m'\u001b[39;49m\u001b[38;5;124;43mbank_name\u001b[39;49m\u001b[38;5;124;43m'\u001b[39;49m\u001b[43m]\u001b[49m)\n\u001b[0;32m     24\u001b[0m     \u001b[38;5;28;01mif\u001b[39;00m key \u001b[38;5;129;01mnot\u001b[39;00m \u001b[38;5;129;01min\u001b[39;00m unique_reviews:\n\u001b[0;32m     25\u001b[0m         unique_reviews[key] \u001b[38;5;241m=\u001b[39m review\n",
      "\u001b[1;31mKeyError\u001b[0m: 'bank_name'"
     ]
    }
   ],
   "source": [
    "def run_scraping():\n",
    "    \"\"\"Run scraping for all three banks\"\"\"\n",
    "    banks = [\n",
    "        {'app_id': 'com.dashen.dashensuperapp', 'name': 'Dashen Bank'},\n",
    "        {'app_id': 'com.cbe.dfc.asc.android', 'name': 'Commercial Bank of Ethiopia'},\n",
    "        {'app_id': 'com.boa.android', 'name': 'Bank of Abyssinia'}\n",
    "    ]\n",
    "    \n",
    "    for bank in banks:\n",
    "        scrape_play_store_reviews(bank['app_id'], bank['name'])\n",
    "    \n",
    "    # After scraping all banks, preprocess the data\n",
    "    clean_file = preprocess_data()\n",
    "    logging.info(f\"Data collection and preprocessing complete: {clean_file}\")\n",
    "\n",
    "if __name__ == \"__main__\":\n",
    "    run_scraping()"
   ]
  }
 ],
 "metadata": {
  "kernelspec": {
   "display_name": "Python 3 (ipykernel)",
   "language": "python",
   "name": "python3"
  },
  "language_info": {
   "codemirror_mode": {
    "name": "ipython",
    "version": 3
   },
   "file_extension": ".py",
   "mimetype": "text/x-python",
   "name": "python",
   "nbconvert_exporter": "python",
   "pygments_lexer": "ipython3",
   "version": "3.12.4"
  }
 },
 "nbformat": 4,
 "nbformat_minor": 5
}
